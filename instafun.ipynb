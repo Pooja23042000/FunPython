{
  "nbformat": 4,
  "nbformat_minor": 0,
  "metadata": {
    "colab": {
      "provenance": []
    },
    "kernelspec": {
      "name": "python3",
      "display_name": "Python 3"
    },
    "language_info": {
      "name": "python"
    }
  },
  "cells": [
    {
      "cell_type": "code",
      "execution_count": null,
      "metadata": {
        "id": "0TFSyhwx76Dt"
      },
      "outputs": [],
      "source": [
        "pip install instaloader"
      ]
    },
    {
      "cell_type": "code",
      "source": [
        "import instaloader\n",
        "\n",
        "# Create an instance of Instaloader\n",
        "L = instaloader.Instaloader()\n",
        "\n",
        "# Login (replace 'your_username' and 'your_password' with your Instagram credentials)\n",
        "L.login('username', 'password!')\n",
        "\n",
        "# Get your profile\n",
        "profile = instaloader.Profile.from_username(L.context, 'username')\n",
        "\n",
        "# Get your followers and following\n",
        "followers = set(profile.get_followers())\n",
        "following = set(profile.get_followees())\n",
        "\n",
        "# Find users who are not following you back\n",
        "not_following_back = following - followers\n",
        "\n",
        "# Print usernames of users who are not following you back\n",
        "for user in not_following_back:\n",
        "    print(user.username)\n"
      ],
      "metadata": {
        "id": "ZJnYGWdm8MTc"
      },
      "execution_count": null,
      "outputs": []
    },
    {
      "cell_type": "markdown",
      "source": [
        "# TWO FACTOR AUTHENTICATION"
      ],
      "metadata": {
        "id": "EREDcK18_mMr"
      }
    },
    {
      "cell_type": "code",
      "source": [
        "import instaloader\n",
        "\n",
        "# Create an instance of Instaloader\n",
        "L = instaloader.Instaloader()\n",
        "\n",
        "# Prompt user for username and password\n",
        "username = input(\"Enter your Instagram username: \")\n",
        "password = input(\"Enter your Instagram password: \")\n",
        "\n",
        "try:\n",
        "    # Login\n",
        "    L.context.login(username, password)\n",
        "except instaloader.TwoFactorAuthRequiredException as e:\n",
        "    # Handle two-factor authentication\n",
        "    print(\"Two-factor authentication required.\")\n",
        "    two_factor_code = input(\"Enter the two-factor authentication code sent to your phone: \")\n",
        "    L.context.two_factor_login(two_factor_code)\n",
        "\n",
        "# Get your profile\n",
        "profile = instaloader.Profile.from_username(L.context, username)\n",
        "\n",
        "# Get your followers and following\n",
        "followers = set(profile.get_followers())\n",
        "following = set(profile.get_followees())\n",
        "\n",
        "# Find users who are not following you back\n",
        "not_following_back = following - followers\n",
        "\n",
        "# Print usernames of users who are not following you back\n",
        "print(\"Users who are not following you back:\")\n",
        "for user in not_following_back:\n",
        "    print(user.username)\n"
      ],
      "metadata": {
        "id": "urHFQ2Mj-V9z"
      },
      "execution_count": null,
      "outputs": []
    }
  ]
}